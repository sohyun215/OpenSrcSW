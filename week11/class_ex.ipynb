{
 "cells": [
  {
   "cell_type": "code",
   "execution_count": null,
   "metadata": {},
   "outputs": [],
   "source": [
    "#실습 8 : 사칙 연산 클래스 \n",
    "\n",
    "# -*- coding: cp949 -*-\n",
    "class Calc:\n",
    "    def sum(self,a,b):\n",
    "        result=a+b\n",
    "        print(\"{0:d} + {1:d} = {2:d} 입니다.\".format(a,b,result))\n",
    "    def sub(self,a,b):\n",
    "        result=a-b\n",
    "        print(\"{0:d} - {1:d} = {2:d} 입니다.\".format(a,b,result))\n",
    "    def multi(self,a,b):\n",
    "        result=a*b\n",
    "        print(\"{0:d} * {1:d} = {2:d} 입니다.\".format(a,b,result))\n",
    "    def divi(self,a,b):\n",
    "        result=a//b\n",
    "        print(\"{0:d} / {1:d} = {2:d} 입니다.\".format(a,b,result))\n",
    "        "
   ]
  }
 ],
 "metadata": {
  "kernelspec": {
   "display_name": "Python 3",
   "language": "python",
   "name": "python3"
  },
  "language_info": {
   "codemirror_mode": {
    "name": "ipython",
    "version": 3
   },
   "file_extension": ".py",
   "mimetype": "text/x-python",
   "name": "python",
   "nbconvert_exporter": "python",
   "pygments_lexer": "ipython3",
   "version": "3.9.4"
  }
 },
 "nbformat": 4,
 "nbformat_minor": 4
}
