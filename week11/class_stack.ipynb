{
 "cells": [
  {
   "cell_type": "code",
   "execution_count": 1,
   "id": "0786c85a-c335-43ae-92f9-b3370927e167",
   "metadata": {},
   "outputs": [],
   "source": [
    "class Stack:\n",
    "    def __init__(self):\n",
    "        self.stack=[]\n",
    "    def isEmpty(self):\n",
    "        return self.size()==0\n",
    "    def push(self,item):\n",
    "        self.stak.append(item)\n",
    "    def pop(self):\n",
    "        if not self.isEmpty():\n",
    "            return self.stack.pop()\n",
    "        else:\n",
    "            return print(\"Stack is Empty.\")\n",
    "    def top(self):\n",
    "        if not self.isEmpty():\n",
    "            return self.stack[-1]\n",
    "        else:\n",
    "            return print(\"Stack is Empty.\")\n",
    "    def size(self):\n",
    "        return len(self.stack)"
   ]
  },
  {
   "cell_type": "code",
   "execution_count": null,
   "id": "5eee2771-1ea1-4359-b1f3-22aa58e70cea",
   "metadata": {},
   "outputs": [],
   "source": []
  }
 ],
 "metadata": {
  "kernelspec": {
   "display_name": "Python 3",
   "language": "python",
   "name": "python3"
  },
  "language_info": {
   "codemirror_mode": {
    "name": "ipython",
    "version": 3
   },
   "file_extension": ".py",
   "mimetype": "text/x-python",
   "name": "python",
   "nbconvert_exporter": "python",
   "pygments_lexer": "ipython3",
   "version": "3.9.4"
  }
 },
 "nbformat": 4,
 "nbformat_minor": 5
}
