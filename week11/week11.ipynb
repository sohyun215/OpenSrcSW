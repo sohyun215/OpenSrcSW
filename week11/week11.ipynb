{
 "cells": [
  {
   "cell_type": "code",
   "execution_count": 1,
   "metadata": {},
   "outputs": [
    {
     "name": "stdout",
     "output_type": "stream",
     "text": [
      "cp file1.txt file2.txt\n"
     ]
    }
   ],
   "source": [
    "#실습 6 : copy\n",
    "userinput=input()\n",
    "str=userinput.split()\n",
    "if(str[0]==\"cp\"):\n",
    "    fs=open(str[1],'r')\n",
    "    data=fs.read()\n",
    "    ft=open(str[2],'w')\n",
    "    ft.write(data)\n",
    "    fs.close()\n",
    "    ft.close()"
   ]
  },
  {
   "cell_type": "code",
   "execution_count": 2,
   "metadata": {},
   "outputs": [
    {
     "name": "stdout",
     "output_type": "stream",
     "text": [
      "week11\n",
      "test file copy\n"
     ]
    }
   ],
   "source": [
    "#실습 6 file2에 복사되었는지 확인\n",
    "f=open('file2.txt','r')\n",
    "data=f.read()\n",
    "print(data)\n",
    "f.close()"
   ]
  },
  {
   "cell_type": "code",
   "execution_count": 4,
   "metadata": {},
   "outputs": [
    {
     "name": "stdout",
     "output_type": "stream",
     "text": [
      "wc file1.txt \n",
      "Number of lines :  2\n",
      "Number of words :  4\n"
     ]
    }
   ],
   "source": [
    "#실습 7 : wc\n",
    "\n",
    "userinput=input()\n",
    "str=userinput.split()\n",
    "if(str[0]==\"wc\"):\n",
    "    f=open(str[1],'r')\n",
    "    linenum=0\n",
    "    wordnum=0\n",
    "    for line in f:\n",
    "        linenum=linenum+1\n",
    "        line=line.replace('\\n','')\n",
    "        words=line.split()\n",
    "        wordnum=wordnum+len(words)\n",
    "    \n",
    "    print(\"Number of lines : \",linenum)\n",
    "    print(\"Number of words : \",wordnum)\n",
    "    f.close()"
   ]
  },
  {
   "cell_type": "code",
   "execution_count": 19,
   "metadata": {},
   "outputs": [
    {
     "name": "stdout",
     "output_type": "stream",
     "text": [
      "1 + 2 = 3 입니다.\n",
      "5 - 1 = 4 입니다.\n",
      "2 * 3 = 6 입니다.\n",
      "6 / 2 = 3 입니다.\n"
     ]
    }
   ],
   "source": [
    "#실습 8 : 사칙 연산 클래스 \n",
    "import import_ipynb\n",
    "from class_ex import Calc\n",
    "calc=Calc()\n",
    "calc.sum(1,2)\n",
    "calc.sub(5,1)\n",
    "calc.multi(2,3)\n",
    "calc.divi(6,2)"
   ]
  },
  {
   "cell_type": "code",
   "execution_count": 53,
   "metadata": {},
   "outputs": [
    {
     "name": "stdout",
     "output_type": "stream",
     "text": [
      "계산식 입력: 1 + 2 - 3 * 4 + 5\n",
      "계산식 출력: 1+2-3*4+5=-4\n"
     ]
    }
   ],
   "source": [
    "#실습 9 : 계산기\n",
    "import import_ipynb\n",
    "from class_stack import Stack\n",
    "\n",
    "def calc(op,num):\n",
    "    tmp1=num.pop()\n",
    "    tmp2=num.pop()\n",
    "    if op=='+':\n",
    "        num.push(tmp2+tmp1)\n",
    "    elif op=='-':\n",
    "        num.push(tmp2-tmp1)\n",
    "    elif op=='*':\n",
    "        num.push(tmp2*tmp1)\n",
    "    elif op=='/':\n",
    "        num.push(tmp2/tmp1)\n",
    "        \n",
    "def getPriority(op):\n",
    "    if op=='+' or op=='-':\n",
    "        return 1\n",
    "    elif op=='*' or op=='/':\n",
    "        return 2\n",
    "    \n",
    "num=Stack()\n",
    "op=Stack()\n",
    "o=['+','-','*','/']\n",
    "str=input(\"계산식 입력: \")\n",
    "item=str.split()\n",
    "result=0\n",
    "for i in item:\n",
    "    if i in o:\n",
    "        # 들어온 연산자 우선순위가 op stack에 있는 연산자보다 낮으면 계산 수행\n",
    "        while not op.isEmpty() and getPriority(i)<=getPriority(op.top()):\n",
    "            calc(op.pop(),num)\n",
    "        op.push(i)\n",
    "    else:\n",
    "        num.push(int(i))\n",
    "#남아있는 연산자를 pop\n",
    "while not op.isEmpty():\n",
    "    calc(op.pop(),num)\n",
    "result=num.pop()\n",
    "print(\"계산식 출력: {0:s}={1:d}\".format(str.replace(\" \",\"\"),result))\n"
   ]
  },
  {
   "cell_type": "code",
   "execution_count": null,
   "metadata": {},
   "outputs": [],
   "source": []
  },
  {
   "cell_type": "code",
   "execution_count": null,
   "metadata": {},
   "outputs": [],
   "source": []
  }
 ],
 "metadata": {
  "kernelspec": {
   "display_name": "Python 3",
   "language": "python",
   "name": "python3"
  },
  "language_info": {
   "codemirror_mode": {
    "name": "ipython",
    "version": 3
   },
   "file_extension": ".py",
   "mimetype": "text/x-python",
   "name": "python",
   "nbconvert_exporter": "python",
   "pygments_lexer": "ipython3",
   "version": "3.9.4"
  }
 },
 "nbformat": 4,
 "nbformat_minor": 4
}
