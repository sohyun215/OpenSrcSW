{
 "cells": [
  {
   "cell_type": "code",
   "execution_count": 7,
   "metadata": {},
   "outputs": [
    {
     "name": "stdout",
     "output_type": "stream",
     "text": [
      "(1,2)\n",
      "(3,4)\n",
      "(4,6)\n"
     ]
    }
   ],
   "source": [
    "#1번\n",
    "class Point:\n",
    "    def __init__(self,x,y):\n",
    "        self.x=x\n",
    "        self.y=y\n",
    "    def show(self):\n",
    "        print(\"({0:d},{1:d})\".format(self.x,self.y))\n",
    "    def __add__(self,other):\n",
    "        x=self.x+other.x\n",
    "        y=self.y+other.y\n",
    "        return Point(x,y)\n",
    "        \n",
    "a=Point(1,2)\n",
    "a.show()\n",
    "\n",
    "b=Point(3,4)\n",
    "b.show()\n",
    "\n",
    "a=a+b\n",
    "a.show()"
   ]
  },
  {
   "cell_type": "code",
   "execution_count": 46,
   "metadata": {},
   "outputs": [
    {
     "name": "stdout",
     "output_type": "stream",
     "text": [
      "Max Week = 2021-05-08 ~ 2021-05-14\n"
     ]
    }
   ],
   "source": [
    "#2번\n",
    "import csv\n",
    "f=open('seoul.csv','r')\n",
    "data=csv.reader(f)\n",
    "next(data)\n",
    "diff=[]\n",
    "result=[]\n",
    "week=[]\n",
    "temp=[] #일주일 단위로 날짜 저장\n",
    "data=list(data)\n",
    "i=1\n",
    "for row in data:\n",
    "    week.append(row[0])\n",
    "    diff.append(float(row[4])-float(row[3]))  #최고기온-최저기온(일교차 계산)\n",
    "    i+=1\n",
    "    if i==8: #7일 단위로 일교차 합 계산\n",
    "        result.append(sum(diff))\n",
    "        diff=[]\n",
    "        temp.append(week)\n",
    "        week=[]\n",
    "        i=1\n",
    "        continue\n",
    "max_week=max(result) #일교차 합이 가장 큰 값 저장\n",
    "for j,tmp in enumerate(result):\n",
    "    if tmp==max_week:\n",
    "        week_result=j #합이 가장 큰 주가 몇주인지 저장\n",
    "print(\"Max Week =\",temp[week_result][0],\"~\",temp[week_result][6])\n",
    "f.close()"
   ]
  },
  {
   "cell_type": "code",
   "execution_count": 60,
   "metadata": {},
   "outputs": [
    {
     "ename": "ValueError",
     "evalue": "operands could not be broadcast together with shapes (3,) (3,6) ",
     "output_type": "error",
     "traceback": [
      "\u001b[1;31m---------------------------------------------------------------------------\u001b[0m",
      "\u001b[1;31mValueError\u001b[0m                                Traceback (most recent call last)",
      "\u001b[1;32m<ipython-input-60-4a13e5f7a9f9>\u001b[0m in \u001b[0;36m<module>\u001b[1;34m\u001b[0m\n\u001b[0;32m      6\u001b[0m \u001b[0mquery\u001b[0m\u001b[1;33m=\u001b[0m\u001b[0mnp\u001b[0m\u001b[1;33m.\u001b[0m\u001b[0marray\u001b[0m\u001b[1;33m(\u001b[0m\u001b[1;33m[\u001b[0m\u001b[1;36m1\u001b[0m\u001b[1;33m,\u001b[0m\u001b[1;36m1\u001b[0m\u001b[1;33m,\u001b[0m\u001b[1;36m0\u001b[0m\u001b[1;33m,\u001b[0m\u001b[1;36m0\u001b[0m\u001b[1;33m,\u001b[0m\u001b[1;36m1\u001b[0m\u001b[1;33m,\u001b[0m\u001b[1;36m0\u001b[0m\u001b[1;33m]\u001b[0m\u001b[1;33m)\u001b[0m\u001b[1;33m\u001b[0m\u001b[1;33m\u001b[0m\u001b[0m\n\u001b[0;32m      7\u001b[0m \u001b[0mcos\u001b[0m\u001b[1;33m=\u001b[0m\u001b[1;33m[\u001b[0m\u001b[1;33m]\u001b[0m\u001b[1;33m\u001b[0m\u001b[1;33m\u001b[0m\u001b[0m\n\u001b[1;32m----> 8\u001b[1;33m \u001b[0mcos\u001b[0m\u001b[1;33m.\u001b[0m\u001b[0mappend\u001b[0m\u001b[1;33m(\u001b[0m\u001b[0mnp\u001b[0m\u001b[1;33m.\u001b[0m\u001b[0mdot\u001b[0m\u001b[1;33m(\u001b[0m\u001b[0mdoc\u001b[0m\u001b[1;33m,\u001b[0m\u001b[0mquery\u001b[0m\u001b[1;33m)\u001b[0m\u001b[1;33m/\u001b[0m\u001b[1;33m(\u001b[0m\u001b[0mnp\u001b[0m\u001b[1;33m.\u001b[0m\u001b[0msqrt\u001b[0m\u001b[1;33m(\u001b[0m\u001b[0mdoc\u001b[0m\u001b[1;33m*\u001b[0m\u001b[0mdoc\u001b[0m\u001b[1;33m)\u001b[0m\u001b[1;33m*\u001b[0m\u001b[0mnp\u001b[0m\u001b[1;33m.\u001b[0m\u001b[0msqrt\u001b[0m\u001b[1;33m(\u001b[0m\u001b[0mquery\u001b[0m\u001b[1;33m*\u001b[0m\u001b[0mquery\u001b[0m\u001b[1;33m)\u001b[0m\u001b[1;33m)\u001b[0m\u001b[1;33m)\u001b[0m\u001b[1;33m\u001b[0m\u001b[1;33m\u001b[0m\u001b[0m\n\u001b[0m",
      "\u001b[1;31mValueError\u001b[0m: operands could not be broadcast together with shapes (3,) (3,6) "
     ]
    }
   ],
   "source": [
    "#3번\n",
    "import numpy as np\n",
    "import matplotlib.pyplot as plt\n",
    "\n",
    "doc=np.array([1,1,0,1,0,1,1,1,1,0,1,0,1,1,0,1,0,0]).reshape(3,6)\n",
    "query=np.array([1,1,0,0,1,0])\n",
    "cos=[]\n",
    "cos.append(np.dot(doc,query)/(np.sqrt(doc*doc)*np.sqrt(query*query))) \n",
    "\n"
   ]
  },
  {
   "cell_type": "code",
   "execution_count": null,
   "metadata": {},
   "outputs": [],
   "source": []
  }
 ],
 "metadata": {
  "kernelspec": {
   "display_name": "Python 3",
   "language": "python",
   "name": "python3"
  },
  "language_info": {
   "codemirror_mode": {
    "name": "ipython",
    "version": 3
   },
   "file_extension": ".py",
   "mimetype": "text/x-python",
   "name": "python",
   "nbconvert_exporter": "python",
   "pygments_lexer": "ipython3",
   "version": "3.8.5"
  }
 },
 "nbformat": 4,
 "nbformat_minor": 4
}
