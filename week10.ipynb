{
 "cells": [
  {
   "cell_type": "code",
   "execution_count": 2,
   "id": "e1a3c2dc",
   "metadata": {},
   "outputs": [
    {
     "name": "stdout",
     "output_type": "stream",
     "text": [
      "Numbers? 10 456 87 78\n",
      "MAX =  456\n"
     ]
    }
   ],
   "source": [
    "#실습2 최대값 구하기\n",
    "\n",
    "str=input(\"Numbers? \")\n",
    "number=str.split()\n",
    "number=[int(i) for i in number]\n",
    "print(\"MAX = \",max(number))\n"
   ]
  },
  {
   "cell_type": "code",
   "execution_count": 4,
   "id": "2e3a571f",
   "metadata": {},
   "outputs": [
    {
     "name": "stdout",
     "output_type": "stream",
     "text": [
      "암호화하려는 문자열을 입력하세요: abc def\n",
      "암호화 결과-> efg bcd \n",
      "복호화하려는 문자열을 입력하세요: efg bcd\n",
      "복호화 결과-> abc def\n"
     ]
    }
   ],
   "source": [
    "#실습3 암호화/복호화\n",
    "\n",
    "str=input(\"암호화하려는 문자열을 입력하세요: \")\n",
    "list=str.split()\n",
    "list.reverse()\n",
    "e_result=\"\"\n",
    "for i in list:\n",
    "    for ch in i:\n",
    "        code=ord(ch)\n",
    "        code+=1\n",
    "        ch=chr(code)\n",
    "        e_result+=ch\n",
    "    e_result+=\" \"\n",
    "print(\"암호화 결과->\",e_result)\n",
    "\n",
    "str=input(\"복호화하려는 문자열을 입력하세요: \")\n",
    "d_result=\"\"\n",
    "for ch in str:\n",
    "    code=ord(ch)\n",
    "    if ch != ' ':\n",
    "        code-=1\n",
    "    ch=chr(code)\n",
    "    d_result+=ch\n",
    "list=d_result.split()\n",
    "list.reverse()\n",
    "print(\"복호화 결과->\",\" \".join(list))\n"
   ]
  },
  {
   "cell_type": "code",
   "execution_count": 12,
   "id": "2e145c4b",
   "metadata": {},
   "outputs": [
    {
     "name": "stdout",
     "output_type": "stream",
     "text": [
      "10명의 이름과 전화번호를 입력하세요\n",
      "abc 123\n",
      "def 456\n",
      "aaa 111\n",
      "bbb 222\n",
      "ccc 333\n",
      "ddd 444\n",
      "eee 555\n",
      "fff 666\n",
      "ggg 777\n",
      "hhh 888\n",
      "이름으로 검색: abc\n",
      "전화번호->  123\n",
      "전화번호로 검색: 456\n",
      "이름->  def\n"
     ]
    }
   ],
   "source": [
    "#실습4 전화번호부\n",
    "\n",
    "print(\"10명의 이름과 전화번호를 입력하세요\")\n",
    "dic=dict()\n",
    "for i in range(10):\n",
    "    list=input().split()\n",
    "    name=list[0]\n",
    "    tel=list[1]\n",
    "    dic[name]=tel\n",
    "\n",
    "s_name=input(\"이름으로 검색: \")\n",
    "if s_name in dic:\n",
    "    print(\"전화번호-> \",dic[s_name])\n",
    "else:\n",
    "    print(\"전화번호부에 해당 이름이 없습니다.\")\n",
    "    \n",
    "s_tel=input(\"전화번호로 검색: \")\n",
    "if s_tel in dic.values():\n",
    "    for key,value in dic.items():\n",
    "        if(value==s_tel):\n",
    "            print(\"이름-> \",key)\n",
    "else:\n",
    "    print(\"전화번호부에 해당 전화번호가 없습니다.\")"
   ]
  },
  {
   "cell_type": "code",
   "execution_count": null,
   "id": "fa55a9bf",
   "metadata": {},
   "outputs": [],
   "source": []
  }
 ],
 "metadata": {
  "kernelspec": {
   "display_name": "Python 3",
   "language": "python",
   "name": "python3"
  },
  "language_info": {
   "codemirror_mode": {
    "name": "ipython",
    "version": 3
   },
   "file_extension": ".py",
   "mimetype": "text/x-python",
   "name": "python",
   "nbconvert_exporter": "python",
   "pygments_lexer": "ipython3",
   "version": "3.9.4"
  }
 },
 "nbformat": 4,
 "nbformat_minor": 5
}
