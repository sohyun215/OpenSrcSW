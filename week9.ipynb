{
 "cells": [
  {
   "cell_type": "code",
   "execution_count": 1,
   "id": "8408723c",
   "metadata": {},
   "outputs": [
    {
     "name": "stdout",
     "output_type": "stream",
     "text": [
      "x값을 입력하세요: 3\n",
      "y값: 45\n"
     ]
    }
   ],
   "source": [
    "x=int(input(\"x값을 입력하세요: \"))\n",
    "y=3*(x**2)+5*x+3\n",
    "print(\"y값:\",y)"
   ]
  },
  {
   "cell_type": "code",
   "execution_count": 2,
   "id": "af13f1fb",
   "metadata": {},
   "outputs": [
    {
     "name": "stdout",
     "output_type": "stream",
     "text": [
      "반지름: 3\n",
      "원의 둘레: 18.84\n",
      "원의 넓이: 28.26\n"
     ]
    }
   ],
   "source": [
    "r=float(input(\"반지름: \"))\n",
    "pi=3.14\n",
    "l=2*pi*r\n",
    "s=pi*r**2\n",
    "print(\"원의 둘레:\",l)\n",
    "print(\"원의 넓이:\",s)"
   ]
  },
  {
   "cell_type": "code",
   "execution_count": null,
   "id": "ec218118",
   "metadata": {},
   "outputs": [],
   "source": []
  }
 ],
 "metadata": {
  "kernelspec": {
   "display_name": "Python 3",
   "language": "python",
   "name": "python3"
  },
  "language_info": {
   "codemirror_mode": {
    "name": "ipython",
    "version": 3
   },
   "file_extension": ".py",
   "mimetype": "text/x-python",
   "name": "python",
   "nbconvert_exporter": "python",
   "pygments_lexer": "ipython3",
   "version": "3.9.4"
  }
 },
 "nbformat": 4,
 "nbformat_minor": 5
}
